{
 "cells": [
  {
   "cell_type": "code",
   "execution_count": null,
   "metadata": {},
   "outputs": [],
   "source": [
    "import csv\n",
    "import numpy as np\n",
    "import tifffile as tf\n",
    "import matplotlib.pyplot as plt\n",
    "import matplotlib.animation as animation\n",
    "from scipy import ndimage\n",
    "import pandas as pd\n",
    "import os"
   ]
  },
  {
   "cell_type": "code",
   "execution_count": null,
   "metadata": {},
   "outputs": [],
   "source": [
    "# Load the TIFF stack and extract shape information\n",
    "file_path = 'paper_from_data.ome.tif'\n",
    "stack = tf.imread(file_path)\n",
    "shape = stack.shape\n",
    "print('Loading Done')"
   ]
  },
  {
   "cell_type": "code",
   "execution_count": null,
   "metadata": {},
   "outputs": [],
   "source": [
    "batch_size = 100  # Adjust the batch size as needed\n",
    "total_indices = 2000\n",
    "num_batches = total_indices // batch_size + (1 if total_indices % batch_size != 0 else 0)\n",
    "origin = ((1000//2 - 1,  0, 0))\n",
    "raw_time_series = stack[:2000, :, :]\n",
    "print('Init')\n",
    "\n",
    "for batch_idx in range(num_batches):\n",
    "    start_index = batch_idx * batch_size\n",
    "    end_index = min((batch_idx + 1) * batch_size, total_indices)\n",
    "\n",
    "    processed_time_series_batch = np.zeros((end_index - start_index, shape[1], shape[2]))\n",
    "    result_data_batch = np.zeros(((end_index // 2), shape[1], shape[2]))\n",
    "\n",
    "    for index in range(start_index, end_index):\n",
    "        # Your processing code for each index within the batch\n",
    "\n",
    "        if index % 100 == 0:\n",
    "            print('Filtering ' + str(index) + '/1500 done')\n",
    "\n",
    "        # Perform filtering\n",
    "        filtered = ndimage.uniform_filter(raw_time_series[:index + 1, :, :], size=(1000, 0, 0), mode='nearest',\n",
    "                                           origin=origin)\n",
    "        processed_time_series_batch[index - start_index, :, :] = filtered[index, :, :]\n",
    "        \n",
    "        if index % 2 == 0:\n",
    "            blue_unf = raw_time_series[index, :, :]\n",
    "            green_unf = raw_time_series[index - 1, :, :]\n",
    "            blue_f = processed_time_series_batch[index - start_index, :, :]\n",
    "            green_f = processed_time_series_batch[index - start_index - 1, :, :]\n",
    "\n",
    "            # Avoid division by zero\n",
    "            np.seterr(divide='ignore', invalid='ignore')\n",
    "            blue_channel = np.divide(blue_unf, blue_f, out=np.zeros_like(blue_f), where=blue_f != 0)\n",
    "            green_channel = np.divide(green_unf, green_f, out=np.zeros_like(green_f), where=green_f != 0)\n",
    "            frame = np.divide(blue_channel, green_channel, out=np.zeros_like(green_channel), where=green_channel != 0)\n",
    "\n",
    "            idx = int(index / 2)\n",
    "            result_data_batch[idx, :, :] = frame"
   ]
  },
  {
   "cell_type": "code",
   "execution_count": null,
   "metadata": {},
   "outputs": [],
   "source": []
  }
 ],
 "metadata": {
  "language_info": {
   "name": "python"
  }
 },
 "nbformat": 4,
 "nbformat_minor": 2
}
