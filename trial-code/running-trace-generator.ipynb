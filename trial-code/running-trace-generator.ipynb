{
 "cells": [
  {
   "cell_type": "code",
   "execution_count": null,
   "metadata": {},
   "outputs": [],
   "source": [
    "import matplotlib.pyplot as plt\n",
    "import matplotlib.animation as animation\n",
    "import pandas as pd\n",
    "import os"
   ]
  },
  {
   "cell_type": "code",
   "execution_count": null,
   "metadata": {},
   "outputs": [],
   "source": [
    "fig, ax = plt.subplots()\n",
    "line, = ax.plot([], [])\n",
    "path = '0702_data_0.csv'"
   ]
  },
  {
   "cell_type": "code",
   "execution_count": null,
   "metadata": {},
   "outputs": [],
   "source": [
    "def animate(frame):\n",
    "    df = pd.read_csv(path)\n",
    "\n",
    "    # Check for updates in the CSV file\n",
    "    current_modification_time = os.path.getmtime(path)\n",
    "\n",
    "    # If the modification time hasn't changed, stop the animation\n",
    "    if hasattr(animate, 'last_modification_time') and current_modification_time == animate.last_modification_time:\n",
    "        return [line]\n",
    "\n",
    "    else:\n",
    "        # Update the plot with the new data\n",
    "        if not df.empty:\n",
    "            x_data = df.index\n",
    "            y_data = df.iloc[:, 0].astype(float)  # Convert the data to float\n",
    "            line.set_data(x_data, y_data)\n",
    "            animate.last_modification_time = current_modification_time\n",
    "\n",
    "        # Return True to continue the animation\n",
    "        return [line]\n",
    "\n",
    "print('Functions defined')\n"
   ]
  },
  {
   "cell_type": "code",
   "execution_count": null,
   "metadata": {},
   "outputs": [],
   "source": [
    "new_path = 'new_path'\n",
    "ani = animation.FuncAnimation(fig, animate, interval=100, blit=True)\n",
    "writergif = animation.PillowWriter()\n",
    "ani.save(new_path, writer=writergif)"
   ]
  }
 ],
 "metadata": {
  "language_info": {
   "name": "python"
  }
 },
 "nbformat": 4,
 "nbformat_minor": 2
}
